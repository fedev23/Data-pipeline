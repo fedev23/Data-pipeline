{
 "cells": [
  {
   "cell_type": "code",
   "execution_count": null,
   "metadata": {},
   "outputs": [],
   "source": [
    "import pandas as pd"
   ]
  },
  {
   "cell_type": "code",
   "execution_count": null,
   "metadata": {},
   "outputs": [],
   "source": [
    "df = pd.read_csv('ny-taxi-2018-sample.csv')"
   ]
  },
  {
   "cell_type": "code",
   "execution_count": null,
   "metadata": {},
   "outputs": [
    {
     "data": {
      "text/html": [
       "<div>\n",
       "<style scoped>\n",
       "    .dataframe tbody tr th:only-of-type {\n",
       "        vertical-align: middle;\n",
       "    }\n",
       "\n",
       "    .dataframe tbody tr th {\n",
       "        vertical-align: top;\n",
       "    }\n",
       "\n",
       "    .dataframe thead th {\n",
       "        text-align: right;\n",
       "    }\n",
       "</style>\n",
       "<table border=\"1\" class=\"dataframe\">\n",
       "  <thead>\n",
       "    <tr style=\"text-align: right;\">\n",
       "      <th></th>\n",
       "      <th>pickup_datetime</th>\n",
       "      <th>dropoff_datetime</th>\n",
       "      <th>passenger_count</th>\n",
       "      <th>trip_distance</th>\n",
       "      <th>payment_type</th>\n",
       "      <th>fare_amount</th>\n",
       "      <th>extra</th>\n",
       "      <th>tip_amount</th>\n",
       "      <th>total_amount</th>\n",
       "      <th>pickup_location_id</th>\n",
       "      <th>dropoff_location_id</th>\n",
       "    </tr>\n",
       "  </thead>\n",
       "  <tbody>\n",
       "    <tr>\n",
       "      <th>0</th>\n",
       "      <td>2018-03-27T13:17:01</td>\n",
       "      <td>2018-03-27T13:45:15</td>\n",
       "      <td>2</td>\n",
       "      <td>7.45</td>\n",
       "      <td>1</td>\n",
       "      <td>25.5</td>\n",
       "      <td>0.0</td>\n",
       "      <td>0.00</td>\n",
       "      <td>26.30</td>\n",
       "      <td>75</td>\n",
       "      <td>182</td>\n",
       "    </tr>\n",
       "    <tr>\n",
       "      <th>1</th>\n",
       "      <td>2018-01-07T15:03:56</td>\n",
       "      <td>2018-01-07T15:41:36</td>\n",
       "      <td>5</td>\n",
       "      <td>13.39</td>\n",
       "      <td>1</td>\n",
       "      <td>41.5</td>\n",
       "      <td>0.0</td>\n",
       "      <td>9.61</td>\n",
       "      <td>57.67</td>\n",
       "      <td>138</td>\n",
       "      <td>90</td>\n",
       "    </tr>\n",
       "    <tr>\n",
       "      <th>2</th>\n",
       "      <td>2018-03-30T08:54:43</td>\n",
       "      <td>2018-03-30T09:27:15</td>\n",
       "      <td>1</td>\n",
       "      <td>10.80</td>\n",
       "      <td>3</td>\n",
       "      <td>35.5</td>\n",
       "      <td>0.0</td>\n",
       "      <td>0.00</td>\n",
       "      <td>42.06</td>\n",
       "      <td>138</td>\n",
       "      <td>162</td>\n",
       "    </tr>\n",
       "    <tr>\n",
       "      <th>3</th>\n",
       "      <td>2018-11-01T16:49:48</td>\n",
       "      <td>2018-11-01T17:27:01</td>\n",
       "      <td>3</td>\n",
       "      <td>3.94</td>\n",
       "      <td>2</td>\n",
       "      <td>23.0</td>\n",
       "      <td>1.0</td>\n",
       "      <td>0.00</td>\n",
       "      <td>24.80</td>\n",
       "      <td>163</td>\n",
       "      <td>148</td>\n",
       "    </tr>\n",
       "    <tr>\n",
       "      <th>4</th>\n",
       "      <td>2018-08-18T13:21:17</td>\n",
       "      <td>2018-08-18T13:56:11</td>\n",
       "      <td>6</td>\n",
       "      <td>10.46</td>\n",
       "      <td>1</td>\n",
       "      <td>35.5</td>\n",
       "      <td>0.0</td>\n",
       "      <td>8.41</td>\n",
       "      <td>50.47</td>\n",
       "      <td>230</td>\n",
       "      <td>138</td>\n",
       "    </tr>\n",
       "    <tr>\n",
       "      <th>...</th>\n",
       "      <td>...</td>\n",
       "      <td>...</td>\n",
       "      <td>...</td>\n",
       "      <td>...</td>\n",
       "      <td>...</td>\n",
       "      <td>...</td>\n",
       "      <td>...</td>\n",
       "      <td>...</td>\n",
       "      <td>...</td>\n",
       "      <td>...</td>\n",
       "      <td>...</td>\n",
       "    </tr>\n",
       "    <tr>\n",
       "      <th>4919</th>\n",
       "      <td>2018-09-26T10:50:01</td>\n",
       "      <td>2018-09-26T10:54:43</td>\n",
       "      <td>1</td>\n",
       "      <td>0.59</td>\n",
       "      <td>2</td>\n",
       "      <td>5.0</td>\n",
       "      <td>0.0</td>\n",
       "      <td>0.00</td>\n",
       "      <td>5.80</td>\n",
       "      <td>141</td>\n",
       "      <td>141</td>\n",
       "    </tr>\n",
       "    <tr>\n",
       "      <th>4920</th>\n",
       "      <td>2018-06-23T16:11:19</td>\n",
       "      <td>2018-06-23T16:15:52</td>\n",
       "      <td>1</td>\n",
       "      <td>0.80</td>\n",
       "      <td>2</td>\n",
       "      <td>5.0</td>\n",
       "      <td>0.0</td>\n",
       "      <td>0.00</td>\n",
       "      <td>5.80</td>\n",
       "      <td>246</td>\n",
       "      <td>158</td>\n",
       "    </tr>\n",
       "    <tr>\n",
       "      <th>4921</th>\n",
       "      <td>2018-05-06T05:11:47</td>\n",
       "      <td>2018-05-06T05:15:15</td>\n",
       "      <td>6</td>\n",
       "      <td>1.00</td>\n",
       "      <td>1</td>\n",
       "      <td>5.0</td>\n",
       "      <td>0.5</td>\n",
       "      <td>1.26</td>\n",
       "      <td>7.56</td>\n",
       "      <td>230</td>\n",
       "      <td>246</td>\n",
       "    </tr>\n",
       "    <tr>\n",
       "      <th>4922</th>\n",
       "      <td>2018-02-20T12:53:57</td>\n",
       "      <td>2018-02-20T12:58:48</td>\n",
       "      <td>2</td>\n",
       "      <td>0.66</td>\n",
       "      <td>1</td>\n",
       "      <td>5.0</td>\n",
       "      <td>0.0</td>\n",
       "      <td>1.16</td>\n",
       "      <td>6.96</td>\n",
       "      <td>246</td>\n",
       "      <td>100</td>\n",
       "    </tr>\n",
       "    <tr>\n",
       "      <th>4923</th>\n",
       "      <td>2018-09-14T00:16:00</td>\n",
       "      <td>2018-09-14T00:27:16</td>\n",
       "      <td>1</td>\n",
       "      <td>6.29</td>\n",
       "      <td>1</td>\n",
       "      <td>19.0</td>\n",
       "      <td>0.5</td>\n",
       "      <td>5.08</td>\n",
       "      <td>25.38</td>\n",
       "      <td>238</td>\n",
       "      <td>243</td>\n",
       "    </tr>\n",
       "  </tbody>\n",
       "</table>\n",
       "<p>4924 rows × 11 columns</p>\n",
       "</div>"
      ],
      "text/plain": [
       "          pickup_datetime     dropoff_datetime  passenger_count  \\\n",
       "0     2018-03-27T13:17:01  2018-03-27T13:45:15                2   \n",
       "1     2018-01-07T15:03:56  2018-01-07T15:41:36                5   \n",
       "2     2018-03-30T08:54:43  2018-03-30T09:27:15                1   \n",
       "3     2018-11-01T16:49:48  2018-11-01T17:27:01                3   \n",
       "4     2018-08-18T13:21:17  2018-08-18T13:56:11                6   \n",
       "...                   ...                  ...              ...   \n",
       "4919  2018-09-26T10:50:01  2018-09-26T10:54:43                1   \n",
       "4920  2018-06-23T16:11:19  2018-06-23T16:15:52                1   \n",
       "4921  2018-05-06T05:11:47  2018-05-06T05:15:15                6   \n",
       "4922  2018-02-20T12:53:57  2018-02-20T12:58:48                2   \n",
       "4923  2018-09-14T00:16:00  2018-09-14T00:27:16                1   \n",
       "\n",
       "      trip_distance  payment_type  fare_amount  extra  tip_amount  \\\n",
       "0              7.45             1         25.5    0.0        0.00   \n",
       "1             13.39             1         41.5    0.0        9.61   \n",
       "2             10.80             3         35.5    0.0        0.00   \n",
       "3              3.94             2         23.0    1.0        0.00   \n",
       "4             10.46             1         35.5    0.0        8.41   \n",
       "...             ...           ...          ...    ...         ...   \n",
       "4919           0.59             2          5.0    0.0        0.00   \n",
       "4920           0.80             2          5.0    0.0        0.00   \n",
       "4921           1.00             1          5.0    0.5        1.26   \n",
       "4922           0.66             1          5.0    0.0        1.16   \n",
       "4923           6.29             1         19.0    0.5        5.08   \n",
       "\n",
       "      total_amount  pickup_location_id  dropoff_location_id  \n",
       "0            26.30                  75                  182  \n",
       "1            57.67                 138                   90  \n",
       "2            42.06                 138                  162  \n",
       "3            24.80                 163                  148  \n",
       "4            50.47                 230                  138  \n",
       "...            ...                 ...                  ...  \n",
       "4919          5.80                 141                  141  \n",
       "4920          5.80                 246                  158  \n",
       "4921          7.56                 230                  246  \n",
       "4922          6.96                 246                  100  \n",
       "4923         25.38                 238                  243  \n",
       "\n",
       "[4924 rows x 11 columns]"
      ]
     },
     "execution_count": 3,
     "metadata": {},
     "output_type": "execute_result"
    }
   ],
   "source": [
    "df"
   ]
  },
  {
   "cell_type": "code",
   "execution_count": null,
   "metadata": {},
   "outputs": [
    {
     "data": {
      "text/plain": [
       "0       2018-03-27T13:17:01\n",
       "1       2018-01-07T15:03:56\n",
       "2       2018-03-30T08:54:43\n",
       "3       2018-11-01T16:49:48\n",
       "4       2018-08-18T13:21:17\n",
       "               ...         \n",
       "4919    2018-09-26T10:50:01\n",
       "4920    2018-06-23T16:11:19\n",
       "4921    2018-05-06T05:11:47\n",
       "4922    2018-02-20T12:53:57\n",
       "4923    2018-09-14T00:16:00\n",
       "Name: pickup_datetime, Length: 4924, dtype: object"
      ]
     },
     "execution_count": 5,
     "metadata": {},
     "output_type": "execute_result"
    }
   ],
   "source": [
    "df['pickup_datetime']"
   ]
  },
  {
   "cell_type": "code",
   "execution_count": null,
   "metadata": {},
   "outputs": [],
   "source": [
    "df.head()"
   ]
  },
  {
   "cell_type": "code",
   "execution_count": null,
   "metadata": {},
   "outputs": [],
   "source": [
    "df['pickup_datetime'] = pd.to_datetime(df['pickup_datetime'])\n",
    "df['dropoff_datetime\t'] = pd.to_datetime(df['dropoff_datetime'])"
   ]
  },
  {
   "cell_type": "code",
   "execution_count": null,
   "metadata": {},
   "outputs": [],
   "source": [
    "df"
   ]
  },
  {
   "cell_type": "code",
   "execution_count": null,
   "metadata": {},
   "outputs": [],
   "source": [
    "df['dropoff_datetime\\t']"
   ]
  },
  {
   "cell_type": "code",
   "execution_count": null,
   "metadata": {},
   "outputs": [],
   "source": [
    "df['dropoff_datetime\\t'] = pd.to_datetime(df['dropoff_datetime\\t'])"
   ]
  },
  {
   "cell_type": "code",
   "execution_count": null,
   "metadata": {},
   "outputs": [],
   "source": [
    "df['pickup_datetime'] = pd.to_datetime(df['pickup_datetime'])\n",
    "df['dropoff_datetime'] = pd.to_datetime(df['dropoff_datetime'])\n",
    "\n",
    "datetime_dim = df[['pickup_datetime', 'dropoff_datetime']].reset_index(drop=True)\n",
    "\n",
    "\n",
    "datetime_dim['pick_hour'] = datetime_dim['pickup_datetime'].dt.hour\n",
    "datetime_dim['pick_day'] = datetime_dim['pickup_datetime'].dt.day\n",
    "datetime_dim['pick_month'] = datetime_dim['pickup_datetime'].dt.month\n",
    "datetime_dim['pick_year'] = datetime_dim['pickup_datetime'].dt.year\n",
    "datetime_dim['pick_weekday'] = datetime_dim['pickup_datetime'].dt.weekday\n",
    "datetime_dim['drop_hour'] = datetime_dim['dropoff_datetime'].dt.hour\n",
    "datetime_dim['drop_day'] = datetime_dim['dropoff_datetime'].dt.day\n",
    "datetime_dim['drop_month'] = datetime_dim['dropoff_datetime'].dt.month\n",
    "datetime_dim['drop_year'] = datetime_dim['dropoff_datetime'].dt.year\n",
    "datetime_dim['drop_weekday'] = datetime_dim['dropoff_datetime'].dt.weekday\n",
    "\n",
    "datetime_dim['datetime_id'] = datetime_dim.index\n",
    "\n",
    "\n",
    "datetime_dim = datetime_dim[['datetime_id', 'pickup_datetime', 'pick_hour', 'pick_day', 'pick_month', 'pick_year', 'pick_weekday',\n",
    "                             'dropoff_datetime', 'drop_hour', 'drop_day', 'drop_month', 'drop_year', 'drop_weekday']]\n",
    "\n",
    "datetime_dim.head()\n"
   ]
  },
  {
   "cell_type": "code",
   "execution_count": null,
   "metadata": {},
   "outputs": [],
   "source": [
    "df.head()"
   ]
  },
  {
   "cell_type": "code",
   "execution_count": null,
   "metadata": {},
   "outputs": [],
   "source": [
    "df['payment_type']"
   ]
  },
  {
   "cell_type": "code",
   "execution_count": null,
   "metadata": {},
   "outputs": [],
   "source": [
    "##creando un dataframe  con diccionario para tipos de pagos\n",
    "\n",
    "payment_type_name = {\n",
    "    1: \"tarjeta\",\n",
    "    2: \"efectivo\",\n",
    "    3: \"transferencia\",\n",
    "    4: \"disputa\"\n",
    "}\n",
    "\n",
    "\n",
    "payment_type_dim = df[['payment_type']].reset_index(drop=True)\n",
    "payment_type_dim['payment_type_id'] = payment_type_dim.index\n",
    "payment_type_dim['payment_type_name'] = payment_type_dim['payment_type'].map(payment_type_name)\n",
    "payment_type_dim = payment_type_dim[['payment_type_id', 'payment_type', 'payment_type_name']]\n",
    "\n",
    "print(payment_type_dim)"
   ]
  },
  {
   "cell_type": "code",
   "execution_count": null,
   "metadata": {},
   "outputs": [],
   "source": [
    "payment_type_dim"
   ]
  },
  {
   "cell_type": "code",
   "execution_count": null,
   "metadata": {},
   "outputs": [],
   "source": [
    "query = pd.concat([df, payment_type_dim, datetime_dim], axis=1)"
   ]
  },
  {
   "cell_type": "code",
   "execution_count": null,
   "metadata": {},
   "outputs": [],
   "source": [
    "query"
   ]
  }
 ],
 "metadata": {
  "kernelspec": {
   "display_name": "env",
   "language": "python",
   "name": "python3"
  },
  "language_info": {
   "codemirror_mode": {
    "name": "ipython",
    "version": 3
   },
   "file_extension": ".py",
   "mimetype": "text/x-python",
   "name": "python",
   "nbconvert_exporter": "python",
   "pygments_lexer": "ipython3",
   "version": "3.11.7"
  }
 },
 "nbformat": 4,
 "nbformat_minor": 2
}
